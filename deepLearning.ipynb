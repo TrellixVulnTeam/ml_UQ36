{
 "cells": [
  {
   "cell_type": "code",
   "execution_count": 9,
   "metadata": {
    "collapsed": true
   },
   "outputs": [],
   "source": [
    "import theano\n",
    "import theano.tensor as T\n",
    "from theano import function, pp\n",
    "import numpy as np"
   ]
  },
  {
   "cell_type": "code",
   "execution_count": 28,
   "metadata": {},
   "outputs": [
    {
     "name": "stdout",
     "output_type": "stream",
     "text": [
      "F: sqr(x)\ndF/dX: (TensorConstant{(1, 1) of 2.0} * x)\n"
     ]
    }
   ],
   "source": [
    "# Defines a tensor matrix with a dynamic scalar, 'x'\n",
    "X = T.dmatrix('x')\n",
    "# Symbolic function Y is the tensor matrix X squared (element-wise)\n",
    "Y = X ** 2\n",
    "# Calculate the derivative sum of Y with respect to X\n",
    "# NOTE: input Y to gradient must be a scalar, so Y.sum()\n",
    "Z = T.grad(Y.sum(), X)\n",
    "Zfunc = theano.function([X], [Z])\n",
    "# F is a compiled function with inputs X, the tensor matrix, and Y, the squared tensor matrix\n",
    "F = function([X], [Y])\n",
    "# Print out the unoptimized gradient function\n",
    "print('F: {}'.format(pp(F.maker.fgraph.outputs[0])))\n",
    "print('dF/dX: {}'.format(pp(Zfunc.maker.fgraph.outputs[0])))"
   ]
  },
  {
   "cell_type": "code",
   "execution_count": 8,
   "metadata": {},
   "outputs": [],
   "source": [
    "Xin = np.ones((3,3))*3\n",
    "Yfunc = F(Xin)"
   ]
  },
  {
   "cell_type": "code",
   "execution_count": null,
   "metadata": {},
   "outputs": [],
   "source": [
    ""
   ]
  }
 ],
 "metadata": {
  "kernelspec": {
   "display_name": "Python 2",
   "language": "python",
   "name": "python2"
  },
  "language_info": {
   "codemirror_mode": {
    "name": "ipython",
    "version": 2.0
   },
   "file_extension": ".py",
   "mimetype": "text/x-python",
   "name": "python",
   "nbconvert_exporter": "python",
   "pygments_lexer": "ipython2",
   "version": "2.7.6"
  }
 },
 "nbformat": 4,
 "nbformat_minor": 0
}