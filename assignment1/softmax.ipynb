{
 "cells": [
  {
   "cell_type": "markdown",
   "metadata": {},
   "source": [
    "# Softmax exercise\n",
    "\n",
    "*Complete and hand in this completed worksheet (including its outputs and any supporting code outside of the worksheet) with your assignment submission. For more details see the [assignments page](http://vision.stanford.edu/teaching/cs231n/assignments.html) on the course website.*\n",
    "\n",
    "This exercise is analogous to the SVM exercise. You will:\n",
    "\n",
    "- implement a fully-vectorized **loss function** for the Softmax classifier\n",
    "- implement the fully-vectorized expression for its **analytic gradient**\n",
    "- **check your implementation** with numerical gradient\n",
    "- use a validation set to **tune the learning rate and regularization** strength\n",
    "- **optimize** the loss function with **SGD**\n",
    "- **visualize** the final learned weights\n"
   ]
  },
  {
   "cell_type": "code",
   "execution_count": 2,
   "metadata": {
    "collapsed": false
   },
   "outputs": [],
   "source": [
    "import random\n",
    "import numpy as np\n",
    "from cs231n.data_utils import load_CIFAR10\n",
    "import matplotlib.pyplot as plt\n",
    "\n",
    "from __future__ import print_function\n",
    "\n",
    "%matplotlib inline\n",
    "plt.rcParams['figure.figsize'] = (10.0, 8.0) # set default size of plots\n",
    "plt.rcParams['image.interpolation'] = 'nearest'\n",
    "plt.rcParams['image.cmap'] = 'gray'\n",
    "\n",
    "# for auto-reloading extenrnal modules\n",
    "# see http://stackoverflow.com/questions/1907993/autoreload-of-modules-in-ipython\n",
    "%load_ext autoreload\n",
    "%autoreload 2"
   ]
  },
  {
   "cell_type": "code",
   "execution_count": 3,
   "metadata": {
    "collapsed": false
   },
   "outputs": [
    {
     "name": "stdout",
     "output_type": "stream",
     "text": [
      "Train data shape:  (49000, 3073)\nTrain labels shape:  (49000,)\nValidation data shape:  (1000, 3073)\nValidation labels shape:  (1000,)\nTest data shape:  (1000, 3073)\nTest labels shape:  (1000,)\ndev data shape:  (500, 3073)\ndev labels shape:  (500,)\n"
     ]
    }
   ],
   "source": [
    "def get_CIFAR10_data(num_training=49000, num_validation=1000, num_test=1000, num_dev=500):\n",
    "    \"\"\"\n",
    "    Load the CIFAR-10 dataset from disk and perform preprocessing to prepare\n",
    "    it for the linear classifier. These are the same steps as we used for the\n",
    "    SVM, but condensed to a single function.  \n",
    "    \"\"\"\n",
    "    # Load the raw CIFAR-10 data\n",
    "    cifar10_dir = 'cs231n/datasets/cifar-10-batches-py'\n",
    "    X_train, y_train, X_test, y_test = load_CIFAR10(cifar10_dir)\n",
    "    \n",
    "    # subsample the data\n",
    "    mask = list(range(num_training, num_training + num_validation))\n",
    "    X_val = X_train[mask]\n",
    "    y_val = y_train[mask]\n",
    "    mask = list(range(num_training))\n",
    "    X_train = X_train[mask]\n",
    "    y_train = y_train[mask]\n",
    "    mask = list(range(num_test))\n",
    "    X_test = X_test[mask]\n",
    "    y_test = y_test[mask]\n",
    "    mask = np.random.choice(num_training, num_dev, replace=False)\n",
    "    X_dev = X_train[mask]\n",
    "    y_dev = y_train[mask]\n",
    "    \n",
    "    # Preprocessing: reshape the image data into rows\n",
    "    X_train = np.reshape(X_train, (X_train.shape[0], -1))\n",
    "    X_val = np.reshape(X_val, (X_val.shape[0], -1))\n",
    "    X_test = np.reshape(X_test, (X_test.shape[0], -1))\n",
    "    X_dev = np.reshape(X_dev, (X_dev.shape[0], -1))\n",
    "    \n",
    "    # Normalize the data: subtract the mean image\n",
    "    mean_image = np.mean(X_train, axis = 0)\n",
    "    X_train -= mean_image\n",
    "    X_val -= mean_image\n",
    "    X_test -= mean_image\n",
    "    X_dev -= mean_image\n",
    "    \n",
    "    # add bias dimension and transform into columns\n",
    "    X_train = np.hstack([X_train, np.ones((X_train.shape[0], 1))])\n",
    "    X_val = np.hstack([X_val, np.ones((X_val.shape[0], 1))])\n",
    "    X_test = np.hstack([X_test, np.ones((X_test.shape[0], 1))])\n",
    "    X_dev = np.hstack([X_dev, np.ones((X_dev.shape[0], 1))])\n",
    "    \n",
    "    return X_train, y_train, X_val, y_val, X_test, y_test, X_dev, y_dev\n",
    "\n",
    "\n",
    "# Invoke the above function to get our data.\n",
    "X_train, y_train, X_val, y_val, X_test, y_test, X_dev, y_dev = get_CIFAR10_data()\n",
    "print('Train data shape: ', X_train.shape)\n",
    "print('Train labels shape: ', y_train.shape)\n",
    "print('Validation data shape: ', X_val.shape)\n",
    "print('Validation labels shape: ', y_val.shape)\n",
    "print('Test data shape: ', X_test.shape)\n",
    "print('Test labels shape: ', y_test.shape)\n",
    "print('dev data shape: ', X_dev.shape)\n",
    "print('dev labels shape: ', y_dev.shape)"
   ]
  },
  {
   "cell_type": "markdown",
   "metadata": {},
   "source": [
    "## Softmax Classifier\n",
    "\n",
    "Your code for this section will all be written inside **cs231n/classifiers/softmax.py**. \n"
   ]
  },
  {
   "cell_type": "code",
   "execution_count": 4,
   "metadata": {
    "collapsed": false
   },
   "outputs": [
    {
     "name": "stdout",
     "output_type": "stream",
     "text": [
      "loss: 2.322069\nsanity check: 2.302585\n"
     ]
    }
   ],
   "source": [
    "# First implement the naive softmax loss function with nested loops.\n",
    "# Open the file cs231n/classifiers/softmax.py and implement the\n",
    "# softmax_loss_naive function.\n",
    "\n",
    "from cs231n.classifiers.softmax import softmax_loss_naive\n",
    "import time\n",
    "\n",
    "# Generate a random softmax weight matrix and use it to compute the loss.\n",
    "W = np.random.randn(3073, 10) * 0.0001\n",
    "loss, grad = softmax_loss_naive(W, X_dev, y_dev, 0.0)\n",
    "\n",
    "# As a rough sanity check, our loss should be something close to -log(0.1).\n",
    "print('loss: %f' % loss)\n",
    "print('sanity check: %f' % (-np.log(0.1)))"
   ]
  },
  {
   "cell_type": "markdown",
   "metadata": {},
   "source": [
    "## Inline Question 1:\n",
    "Why do we expect our loss to be close to -log(0.1)? Explain briefly.**\n",
    "\n",
    "**Your answer:** *With random initialized weights, the probabiliy is 1/num_classes.*\n"
   ]
  },
  {
   "cell_type": "code",
   "execution_count": 5,
   "metadata": {
    "collapsed": false
   },
   "outputs": [
    {
     "name": "stdout",
     "output_type": "stream",
     "text": [
      "numerical: 0.935123 analytic: 0.935123, relative error: 8.586158e-08\nnumerical: 1.369005 analytic: 1.369005, relative error: 1.247248e-08\nnumerical: 1.818041 analytic: 1.818041, relative error: 1.219751e-08\nnumerical: -0.385294 analytic: -0.385294, relative error: 8.307696e-08\n"
     ]
    },
    {
     "name": "stdout",
     "output_type": "stream",
     "text": [
      "numerical: -1.812229 analytic: -1.812229, relative error: 3.403812e-08\nnumerical: 5.744992 analytic: 5.744992, relative error: 1.065844e-08\nnumerical: 0.801841 analytic: 0.801841, relative error: 7.158332e-08\nnumerical: 1.070890 analytic: 1.070890, relative error: 9.978208e-08\n"
     ]
    },
    {
     "name": "stdout",
     "output_type": "stream",
     "text": [
      "numerical: 0.114191 analytic: 0.114191, relative error: 4.673433e-07\nnumerical: 2.834226 analytic: 2.834226, relative error: 4.101885e-08\nnumerical: -1.747672 analytic: -1.753763, relative error: 1.739653e-03\nnumerical: -0.072804 analytic: -0.065128, relative error: 5.564986e-02\n"
     ]
    },
    {
     "name": "stdout",
     "output_type": "stream",
     "text": [
      "numerical: 0.151030 analytic: 0.153618, relative error: 8.494628e-03\nnumerical: -1.214386 analytic: -1.223889, relative error: 3.897166e-03\nnumerical: -2.687833 analytic: -2.689574, relative error: 3.236850e-04\nnumerical: 2.920852 analytic: 2.927033, relative error: 1.057060e-03\n"
     ]
    },
    {
     "name": "stdout",
     "output_type": "stream",
     "text": [
      "numerical: 0.676569 analytic: 0.677227, relative error: 4.856380e-04\nnumerical: 2.008660 analytic: 2.001171, relative error: 1.867676e-03\nnumerical: -4.267586 analytic: -4.271544, relative error: 4.634522e-04\nnumerical: 0.535882 analytic: 0.531105, relative error: 4.476864e-03\n"
     ]
    }
   ],
   "source": [
    "# Complete the implementation of softmax_loss_naive and implement a (naive)\n",
    "# version of the gradient that uses nested loops.\n",
    "loss, grad = softmax_loss_naive(W, X_dev, y_dev, 0.0)\n",
    "\n",
    "# As we did for the SVM, use numeric gradient checking as a debugging tool.\n",
    "# The numeric gradient should be close to the analytic gradient.\n",
    "from cs231n.gradient_check import grad_check_sparse\n",
    "f = lambda w: softmax_loss_naive(w, X_dev, y_dev, 0.0)[0]\n",
    "grad_numerical = grad_check_sparse(f, W, grad, 10)\n",
    "\n",
    "# similar to SVM case, do another gradient check with regularization\n",
    "loss, grad = softmax_loss_naive(W, X_dev, y_dev, 5e1)\n",
    "f = lambda w: softmax_loss_naive(w, X_dev, y_dev, 5e1)[0]\n",
    "grad_numerical = grad_check_sparse(f, W, grad, 10)"
   ]
  },
  {
   "cell_type": "code",
   "execution_count": 6,
   "metadata": {
    "collapsed": false
   },
   "outputs": [
    {
     "name": "stdout",
     "output_type": "stream",
     "text": [
      "naive loss: 2.322069e+00 computed in 0.060646s\nvectorized loss: 2.322069e+00 computed in 0.008349s\nLoss difference: 0.000000\nGradient difference: 0.000000\n"
     ]
    }
   ],
   "source": [
    "# Now that we have a naive implementation of the softmax loss function and its gradient,\n",
    "# implement a vectorized version in softmax_loss_vectorized.\n",
    "# The two versions should compute the same results, but the vectorized version should be\n",
    "# much faster.\n",
    "tic = time.time()\n",
    "loss_naive, grad_naive = softmax_loss_naive(W, X_dev, y_dev, 0.000005)\n",
    "toc = time.time()\n",
    "print('naive loss: %e computed in %fs' % (loss_naive, toc - tic))\n",
    "\n",
    "from cs231n.classifiers.softmax import softmax_loss_vectorized\n",
    "tic = time.time()\n",
    "loss_vectorized, grad_vectorized = softmax_loss_vectorized(W, X_dev, y_dev, 0.000005)\n",
    "toc = time.time()\n",
    "print('vectorized loss: %e computed in %fs' % (loss_vectorized, toc - tic))\n",
    "\n",
    "# As we                  did for the SVM, we use the Frobenius norm to compare the two versions\n",
    "# of the gradient.\n",
    "grad_difference = np.linalg.norm(grad_naive - grad_vectorized, ord='fro')\n",
    "print('Loss difference: %f' % np.abs(loss_naive - loss_vectorized))\n",
    "print('Gradient difference: %f' % grad_difference)"
   ]
  },
  {
   "cell_type": "code",
   "execution_count": 7,
   "metadata": {
    "collapsed": false
   },
   "outputs": [
    {
     "name": "stdout",
     "output_type": "stream",
     "text": [
      "training accuracy: 0.3298979591836735\nvalidation accuracy: 0.345\n"
     ]
    },
    {
     "name": "stdout",
     "output_type": "stream",
     "text": [
      "training accuracy: 0.33840816326530615\nvalidation accuracy: 0.362\n"
     ]
    },
    {
     "name": "stdout",
     "output_type": "stream",
     "text": [
      "training accuracy: 0.33983673469387754\nvalidation accuracy: 0.353\n"
     ]
    },
    {
     "name": "stdout",
     "output_type": "stream",
     "text": [
      "training accuracy: 0.3340612244897959\nvalidation accuracy: 0.346\n"
     ]
    },
    {
     "name": "stdout",
     "output_type": "stream",
     "text": [
      "training accuracy: 0.3370612244897959\nvalidation accuracy: 0.354\n"
     ]
    },
    {
     "name": "stdout",
     "output_type": "stream",
     "text": [
      "training accuracy: 0.34038775510204083\nvalidation accuracy: 0.353\n"
     ]
    },
    {
     "name": "stdout",
     "output_type": "stream",
     "text": [
      "training accuracy: 0.33585714285714285\nvalidation accuracy: 0.348\n"
     ]
    },
    {
     "name": "stdout",
     "output_type": "stream",
     "text": [
      "training accuracy: 0.3310612244897959\nvalidation accuracy: 0.34\n"
     ]
    },
    {
     "name": "stdout",
     "output_type": "stream",
     "text": [
      "training accuracy: 0.3302040816326531\nvalidation accuracy: 0.352\n"
     ]
    },
    {
     "name": "stdout",
     "output_type": "stream",
     "text": [
      "training accuracy: 0.33738775510204083\nvalidation accuracy: 0.346\n"
     ]
    },
    {
     "name": "stdout",
     "output_type": "stream",
     "text": [
      "training accuracy: 0.3503265306122449\nvalidation accuracy: 0.377\n"
     ]
    },
    {
     "name": "stdout",
     "output_type": "stream",
     "text": [
      "training accuracy: 0.32940816326530614\nvalidation accuracy: 0.343\n"
     ]
    },
    {
     "name": "stdout",
     "output_type": "stream",
     "text": [
      "training accuracy: 0.3472857142857143\nvalidation accuracy: 0.36\n"
     ]
    },
    {
     "name": "stdout",
     "output_type": "stream",
     "text": [
      "training accuracy: 0.33679591836734696\nvalidation accuracy: 0.355\n"
     ]
    },
    {
     "name": "stdout",
     "output_type": "stream",
     "text": [
      "training accuracy: 0.3341224489795918\nvalidation accuracy: 0.354\n"
     ]
    },
    {
     "name": "stdout",
     "output_type": "stream",
     "text": [
      "training accuracy: 0.33891836734693875\nvalidation accuracy: 0.342\n"
     ]
    },
    {
     "name": "stdout",
     "output_type": "stream",
     "text": [
      "training accuracy: 0.34877551020408165\nvalidation accuracy: 0.357\n"
     ]
    },
    {
     "name": "stdout",
     "output_type": "stream",
     "text": [
      "training accuracy: 0.3385918367346939\nvalidation accuracy: 0.339\n"
     ]
    },
    {
     "name": "stdout",
     "output_type": "stream",
     "text": [
      "training accuracy: 0.324\nvalidation accuracy: 0.337\n"
     ]
    },
    {
     "name": "stdout",
     "output_type": "stream",
     "text": [
      "training accuracy: 0.3409387755102041\nvalidation accuracy: 0.36\n"
     ]
    },
    {
     "name": "stdout",
     "output_type": "stream",
     "text": [
      "training accuracy: 0.33524489795918366\nvalidation accuracy: 0.353\n"
     ]
    },
    {
     "name": "stdout",
     "output_type": "stream",
     "text": [
      "training accuracy: 0.33591836734693875\nvalidation accuracy: 0.341\n"
     ]
    },
    {
     "name": "stdout",
     "output_type": "stream",
     "text": [
      "training accuracy: 0.3310408163265306\nvalidation accuracy: 0.347\n"
     ]
    },
    {
     "name": "stdout",
     "output_type": "stream",
     "text": [
      "training accuracy: 0.3390408163265306\nvalidation accuracy: 0.354\n"
     ]
    },
    {
     "name": "stdout",
     "output_type": "stream",
     "text": [
      "training accuracy: 0.33610204081632655\nvalidation accuracy: 0.352\n"
     ]
    },
    {
     "name": "stdout",
     "output_type": "stream",
     "text": [
      "training accuracy: 0.34244897959183673\nvalidation accuracy: 0.365\n"
     ]
    },
    {
     "name": "stdout",
     "output_type": "stream",
     "text": [
      "training accuracy: 0.3325102040816327\nvalidation accuracy: 0.342\n"
     ]
    },
    {
     "name": "stdout",
     "output_type": "stream",
     "text": [
      "training accuracy: 0.34722448979591836\nvalidation accuracy: 0.366\n"
     ]
    },
    {
     "name": "stdout",
     "output_type": "stream",
     "text": [
      "training accuracy: 0.347734693877551\nvalidation accuracy: 0.361\n"
     ]
    },
    {
     "name": "stdout",
     "output_type": "stream",
     "text": [
      "training accuracy: 0.32271428571428573\nvalidation accuracy: 0.34\n"
     ]
    },
    {
     "name": "stdout",
     "output_type": "stream",
     "text": [
      "training accuracy: 0.3220204081632653\nvalidation accuracy: 0.357\n"
     ]
    },
    {
     "name": "stdout",
     "output_type": "stream",
     "text": [
      "training accuracy: 0.34520408163265304\nvalidation accuracy: 0.356\n"
     ]
    },
    {
     "name": "stdout",
     "output_type": "stream",
     "text": [
      "training accuracy: 0.3311224489795918\nvalidation accuracy: 0.336\n"
     ]
    },
    {
     "name": "stdout",
     "output_type": "stream",
     "text": [
      "training accuracy: 0.33016326530612244\nvalidation accuracy: 0.349\n"
     ]
    },
    {
     "name": "stdout",
     "output_type": "stream",
     "text": [
      "training accuracy: 0.34314285714285714\nvalidation accuracy: 0.356\n"
     ]
    },
    {
     "name": "stdout",
     "output_type": "stream",
     "text": [
      "training accuracy: 0.33414285714285713\nvalidation accuracy: 0.362\n"
     ]
    },
    {
     "name": "stdout",
     "output_type": "stream",
     "text": [
      "training accuracy: 0.33316326530612245\nvalidation accuracy: 0.343\n"
     ]
    },
    {
     "name": "stdout",
     "output_type": "stream",
     "text": [
      "training accuracy: 0.3200612244897959\nvalidation accuracy: 0.344\n"
     ]
    },
    {
     "name": "stdout",
     "output_type": "stream",
     "text": [
      "training accuracy: 0.331\nvalidation accuracy: 0.354\n"
     ]
    },
    {
     "name": "stdout",
     "output_type": "stream",
     "text": [
      "training accuracy: 0.33046938775510204\nvalidation accuracy: 0.332\n"
     ]
    },
    {
     "name": "stdout",
     "output_type": "stream",
     "text": [
      "training accuracy: 0.34091836734693876\nvalidation accuracy: 0.344\n"
     ]
    },
    {
     "name": "stdout",
     "output_type": "stream",
     "text": [
      "training accuracy: 0.33322448979591834\nvalidation accuracy: 0.338\n"
     ]
    },
    {
     "name": "stdout",
     "output_type": "stream",
     "text": [
      "training accuracy: 0.35046938775510206\nvalidation accuracy: 0.359\n"
     ]
    },
    {
     "name": "stdout",
     "output_type": "stream",
     "text": [
      "training accuracy: 0.34451020408163263\nvalidation accuracy: 0.36\n"
     ]
    },
    {
     "name": "stdout",
     "output_type": "stream",
     "text": [
      "training accuracy: 0.3336734693877551\nvalidation accuracy: 0.349\n"
     ]
    },
    {
     "name": "stdout",
     "output_type": "stream",
     "text": [
      "training accuracy: 0.3354489795918367\nvalidation accuracy: 0.357\n"
     ]
    },
    {
     "name": "stdout",
     "output_type": "stream",
     "text": [
      "training accuracy: 0.34285714285714286\nvalidation accuracy: 0.358\n"
     ]
    },
    {
     "name": "stdout",
     "output_type": "stream",
     "text": [
      "training accuracy: 0.3410204081632653\nvalidation accuracy: 0.349\n"
     ]
    },
    {
     "name": "stdout",
     "output_type": "stream",
     "text": [
      "training accuracy: 0.3314285714285714\nvalidation accuracy: 0.35\n"
     ]
    },
    {
     "name": "stdout",
     "output_type": "stream",
     "text": [
      "training accuracy: 0.3406326530612245\nvalidation accuracy: 0.356\n"
     ]
    },
    {
     "name": "stdout",
     "output_type": "stream",
     "text": [
      "training accuracy: 0.33240816326530614\nvalidation accuracy: 0.348\n"
     ]
    },
    {
     "name": "stdout",
     "output_type": "stream",
     "text": [
      "training accuracy: 0.3323469387755102\nvalidation accuracy: 0.357\n"
     ]
    },
    {
     "name": "stdout",
     "output_type": "stream",
     "text": [
      "training accuracy: 0.32824489795918366\nvalidation accuracy: 0.351\n"
     ]
    },
    {
     "name": "stdout",
     "output_type": "stream",
     "text": [
      "training accuracy: 0.3283877551020408\nvalidation accuracy: 0.348\n"
     ]
    },
    {
     "name": "stdout",
     "output_type": "stream",
     "text": [
      "training accuracy: 0.32993877551020406\nvalidation accuracy: 0.346\n"
     ]
    },
    {
     "name": "stdout",
     "output_type": "stream",
     "text": [
      "training accuracy: 0.3486530612244898\nvalidation accuracy: 0.364\n"
     ]
    },
    {
     "name": "stdout",
     "output_type": "stream",
     "text": [
      "training accuracy: 0.32212244897959186\nvalidation accuracy: 0.333\n"
     ]
    },
    {
     "name": "stdout",
     "output_type": "stream",
     "text": [
      "training accuracy: 0.34483673469387754\nvalidation accuracy: 0.363\n"
     ]
    },
    {
     "name": "stdout",
     "output_type": "stream",
     "text": [
      "training accuracy: 0.33991836734693875\nvalidation accuracy: 0.354\n"
     ]
    },
    {
     "name": "stdout",
     "output_type": "stream",
     "text": [
      "training accuracy: 0.3290612244897959\nvalidation accuracy: 0.346\n"
     ]
    },
    {
     "name": "stdout",
     "output_type": "stream",
     "text": [
      "training accuracy: 0.33279591836734695\nvalidation accuracy: 0.347\n"
     ]
    },
    {
     "name": "stdout",
     "output_type": "stream",
     "text": [
      "training accuracy: 0.34677551020408165\nvalidation accuracy: 0.361\n"
     ]
    },
    {
     "name": "stdout",
     "output_type": "stream",
     "text": [
      "training accuracy: 0.34085714285714286\nvalidation accuracy: 0.349\n"
     ]
    },
    {
     "name": "stdout",
     "output_type": "stream",
     "text": [
      "training accuracy: 0.32348979591836735\nvalidation accuracy: 0.341\n"
     ]
    },
    {
     "name": "stdout",
     "output_type": "stream",
     "text": [
      "training accuracy: 0.34251020408163263\nvalidation accuracy: 0.357\n"
     ]
    },
    {
     "name": "stdout",
     "output_type": "stream",
     "text": [
      "training accuracy: 0.3325918367346939\nvalidation accuracy: 0.349\n"
     ]
    },
    {
     "name": "stdout",
     "output_type": "stream",
     "text": [
      "training accuracy: 0.3296938775510204\nvalidation accuracy: 0.345\n"
     ]
    },
    {
     "name": "stdout",
     "output_type": "stream",
     "text": [
      "training accuracy: 0.3307551020408163\nvalidation accuracy: 0.34\n"
     ]
    },
    {
     "name": "stdout",
     "output_type": "stream",
     "text": [
      "training accuracy: 0.3296530612244898\nvalidation accuracy: 0.335\n"
     ]
    },
    {
     "name": "stdout",
     "output_type": "stream",
     "text": [
      "training accuracy: 0.32512244897959186\nvalidation accuracy: 0.346\n"
     ]
    },
    {
     "name": "stdout",
     "output_type": "stream",
     "text": [
      "training accuracy: 0.3466734693877551\nvalidation accuracy: 0.362\n"
     ]
    },
    {
     "name": "stdout",
     "output_type": "stream",
     "text": [
      "training accuracy: 0.33255102040816326\nvalidation accuracy: 0.344\n"
     ]
    },
    {
     "name": "stdout",
     "output_type": "stream",
     "text": [
      "training accuracy: 0.34891836734693876\nvalidation accuracy: 0.362\n"
     ]
    },
    {
     "name": "stdout",
     "output_type": "stream",
     "text": [
      "training accuracy: 0.34814285714285714\nvalidation accuracy: 0.356\n"
     ]
    },
    {
     "name": "stdout",
     "output_type": "stream",
     "text": [
      "training accuracy: 0.3343265306122449\nvalidation accuracy: 0.351\n"
     ]
    },
    {
     "name": "stdout",
     "output_type": "stream",
     "text": [
      "training accuracy: 0.33379591836734696\nvalidation accuracy: 0.332\n"
     ]
    },
    {
     "name": "stdout",
     "output_type": "stream",
     "text": [
      "training accuracy: 0.34722448979591836\nvalidation accuracy: 0.357\n"
     ]
    },
    {
     "name": "stdout",
     "output_type": "stream",
     "text": [
      "training accuracy: 0.33761224489795916\nvalidation accuracy: 0.342\n"
     ]
    },
    {
     "name": "stdout",
     "output_type": "stream",
     "text": [
      "training accuracy: 0.3325714285714286\nvalidation accuracy: 0.357\n"
     ]
    },
    {
     "name": "stdout",
     "output_type": "stream",
     "text": [
      "training accuracy: 0.34316326530612246\nvalidation accuracy: 0.35\n"
     ]
    },
    {
     "name": "stdout",
     "output_type": "stream",
     "text": [
      "training accuracy: 0.3300408163265306\nvalidation accuracy: 0.341\n"
     ]
    },
    {
     "name": "stdout",
     "output_type": "stream",
     "text": [
      "training accuracy: 0.324734693877551\nvalidation accuracy: 0.324\n"
     ]
    },
    {
     "name": "stdout",
     "output_type": "stream",
     "text": [
      "training accuracy: 0.31848979591836735\nvalidation accuracy: 0.334\n"
     ]
    },
    {
     "name": "stdout",
     "output_type": "stream",
     "text": [
      "training accuracy: 0.32816326530612244\nvalidation accuracy: 0.348\n"
     ]
    },
    {
     "name": "stdout",
     "output_type": "stream",
     "text": [
      "training accuracy: 0.335\nvalidation accuracy: 0.358\n"
     ]
    },
    {
     "name": "stdout",
     "output_type": "stream",
     "text": [
      "training accuracy: 0.335265306122449\nvalidation accuracy: 0.352\n"
     ]
    },
    {
     "name": "stdout",
     "output_type": "stream",
     "text": [
      "training accuracy: 0.3331224489795918\nvalidation accuracy: 0.341\n"
     ]
    },
    {
     "name": "stdout",
     "output_type": "stream",
     "text": [
      "training accuracy: 0.3526938775510204\nvalidation accuracy: 0.372\n"
     ]
    },
    {
     "name": "stdout",
     "output_type": "stream",
     "text": [
      "training accuracy: 0.33946938775510205\nvalidation accuracy: 0.359\n"
     ]
    },
    {
     "name": "stdout",
     "output_type": "stream",
     "text": [
      "training accuracy: 0.3256938775510204\nvalidation accuracy: 0.348\n"
     ]
    },
    {
     "name": "stdout",
     "output_type": "stream",
     "text": [
      "training accuracy: 0.33410204081632655\nvalidation accuracy: 0.351\n"
     ]
    },
    {
     "name": "stdout",
     "output_type": "stream",
     "text": [
      "training accuracy: 0.3450408163265306\nvalidation accuracy: 0.361\n"
     ]
    },
    {
     "name": "stdout",
     "output_type": "stream",
     "text": [
      "training accuracy: 0.3370204081632653\nvalidation accuracy: 0.356\n"
     ]
    },
    {
     "name": "stdout",
     "output_type": "stream",
     "text": [
      "training accuracy: 0.32624489795918366\nvalidation accuracy: 0.346\n"
     ]
    },
    {
     "name": "stdout",
     "output_type": "stream",
     "text": [
      "training accuracy: 0.3445918367346939\nvalidation accuracy: 0.361\n"
     ]
    },
    {
     "name": "stdout",
     "output_type": "stream",
     "text": [
      "training accuracy: 0.330734693877551\nvalidation accuracy: 0.34\n"
     ]
    },
    {
     "name": "stdout",
     "output_type": "stream",
     "text": [
      "training accuracy: 0.32477551020408163\nvalidation accuracy: 0.34\n"
     ]
    },
    {
     "name": "stdout",
     "output_type": "stream",
     "text": [
      "training accuracy: 0.3252857142857143\nvalidation accuracy: 0.345\n"
     ]
    },
    {
     "name": "stdout",
     "output_type": "stream",
     "text": [
      "training accuracy: 0.33410204081632655\nvalidation accuracy: 0.351\n"
     ]
    },
    {
     "name": "stdout",
     "output_type": "stream",
     "text": [
      "training accuracy: 0.3343469387755102\nvalidation accuracy: 0.349\n"
     ]
    },
    {
     "name": "stdout",
     "output_type": "stream",
     "text": [
      "training accuracy: 0.3470408163265306\nvalidation accuracy: 0.362\n"
     ]
    },
    {
     "name": "stdout",
     "output_type": "stream",
     "text": [
      "training accuracy: 0.33040816326530614\nvalidation accuracy: 0.355\n"
     ]
    },
    {
     "name": "stdout",
     "output_type": "stream",
     "text": [
      "training accuracy: 0.34353061224489795\nvalidation accuracy: 0.358\n"
     ]
    },
    {
     "name": "stdout",
     "output_type": "stream",
     "text": [
      "training accuracy: 0.34551020408163263\nvalidation accuracy: 0.356\n"
     ]
    },
    {
     "name": "stdout",
     "output_type": "stream",
     "text": [
      "training accuracy: 0.32787755102040816\nvalidation accuracy: 0.338\n"
     ]
    },
    {
     "name": "stdout",
     "output_type": "stream",
     "text": [
      "training accuracy: 0.3348979591836735\nvalidation accuracy: 0.352\n"
     ]
    },
    {
     "name": "stdout",
     "output_type": "stream",
     "text": [
      "training accuracy: 0.3502448979591837\nvalidation accuracy: 0.368\n"
     ]
    },
    {
     "name": "stdout",
     "output_type": "stream",
     "text": [
      "training accuracy: 0.33748979591836736\nvalidation accuracy: 0.35\n"
     ]
    },
    {
     "name": "stdout",
     "output_type": "stream",
     "text": [
      "training accuracy: 0.33385714285714285\nvalidation accuracy: 0.344\n"
     ]
    },
    {
     "name": "stdout",
     "output_type": "stream",
     "text": [
      "training accuracy: 0.34110204081632656\nvalidation accuracy: 0.356\n"
     ]
    },
    {
     "name": "stdout",
     "output_type": "stream",
     "text": [
      "training accuracy: 0.3283673469387755\nvalidation accuracy: 0.338\n"
     ]
    },
    {
     "name": "stdout",
     "output_type": "stream",
     "text": [
      "training accuracy: 0.3247551020408163\nvalidation accuracy: 0.34\n"
     ]
    },
    {
     "name": "stdout",
     "output_type": "stream",
     "text": [
      "training accuracy: 0.3286530612244898\nvalidation accuracy: 0.334\n"
     ]
    },
    {
     "name": "stdout",
     "output_type": "stream",
     "text": [
      "training accuracy: 0.329265306122449\nvalidation accuracy: 0.346\n"
     ]
    },
    {
     "name": "stdout",
     "output_type": "stream",
     "text": [
      "training accuracy: 0.3320612244897959\nvalidation accuracy: 0.342\n"
     ]
    },
    {
     "name": "stdout",
     "output_type": "stream",
     "text": [
      "training accuracy: 0.3492857142857143\nvalidation accuracy: 0.367\n"
     ]
    },
    {
     "name": "stdout",
     "output_type": "stream",
     "text": [
      "training accuracy: 0.33279591836734695\nvalidation accuracy: 0.347\n"
     ]
    },
    {
     "name": "stdout",
     "output_type": "stream",
     "text": [
      "training accuracy: 0.3450612244897959\nvalidation accuracy: 0.367\n"
     ]
    },
    {
     "name": "stdout",
     "output_type": "stream",
     "text": [
      "training accuracy: 0.33861224489795916\nvalidation accuracy: 0.35\n"
     ]
    },
    {
     "name": "stdout",
     "output_type": "stream",
     "text": [
      "training accuracy: 0.3302857142857143\nvalidation accuracy: 0.34\n"
     ]
    },
    {
     "name": "stdout",
     "output_type": "stream",
     "text": [
      "training accuracy: 0.3302040816326531\nvalidation accuracy: 0.349\n"
     ]
    },
    {
     "name": "stdout",
     "output_type": "stream",
     "text": [
      "training accuracy: 0.3501020408163265\nvalidation accuracy: 0.363\n"
     ]
    },
    {
     "name": "stdout",
     "output_type": "stream",
     "text": [
      "training accuracy: 0.3385714285714286\nvalidation accuracy: 0.35\n"
     ]
    },
    {
     "name": "stdout",
     "output_type": "stream",
     "text": [
      "training accuracy: 0.33187755102040817\nvalidation accuracy: 0.343\n"
     ]
    },
    {
     "name": "stdout",
     "output_type": "stream",
     "text": [
      "training accuracy: 0.33824489795918367\nvalidation accuracy: 0.354\n"
     ]
    },
    {
     "name": "stdout",
     "output_type": "stream",
     "text": [
      "training accuracy: 0.3370204081632653\nvalidation accuracy: 0.354\n"
     ]
    },
    {
     "name": "stdout",
     "output_type": "stream",
     "text": [
      "training accuracy: 0.3309795918367347\nvalidation accuracy: 0.357\n"
     ]
    },
    {
     "name": "stdout",
     "output_type": "stream",
     "text": [
      "training accuracy: 0.33085714285714285\nvalidation accuracy: 0.343\n"
     ]
    },
    {
     "name": "stdout",
     "output_type": "stream",
     "text": [
      "training accuracy: 0.33493877551020407\nvalidation accuracy: 0.355\n"
     ]
    },
    {
     "name": "stdout",
     "output_type": "stream",
     "text": [
      "training accuracy: 0.3273469387755102\nvalidation accuracy: 0.349\n"
     ]
    },
    {
     "name": "stdout",
     "output_type": "stream",
     "text": [
      "training accuracy: 0.3421224489795918\nvalidation accuracy: 0.358\n"
     ]
    },
    {
     "name": "stdout",
     "output_type": "stream",
     "text": [
      "training accuracy: 0.3363469387755102\nvalidation accuracy: 0.343\n"
     ]
    },
    {
     "name": "stdout",
     "output_type": "stream",
     "text": [
      "training accuracy: 0.34522448979591835\nvalidation accuracy: 0.356\n"
     ]
    },
    {
     "name": "stdout",
     "output_type": "stream",
     "text": [
      "training accuracy: 0.34508163265306124\nvalidation accuracy: 0.353\n"
     ]
    },
    {
     "name": "stdout",
     "output_type": "stream",
     "text": [
      "training accuracy: 0.329734693877551\nvalidation accuracy: 0.339\n"
     ]
    },
    {
     "name": "stdout",
     "output_type": "stream",
     "text": [
      "training accuracy: 0.32981632653061227\nvalidation accuracy: 0.345\n"
     ]
    },
    {
     "name": "stdout",
     "output_type": "stream",
     "text": [
      "training accuracy: 0.3454285714285714\nvalidation accuracy: 0.356\n"
     ]
    },
    {
     "name": "stdout",
     "output_type": "stream",
     "text": [
      "training accuracy: 0.33824489795918367\nvalidation accuracy: 0.349\n"
     ]
    },
    {
     "name": "stdout",
     "output_type": "stream",
     "text": [
      "training accuracy: 0.3287551020408163\nvalidation accuracy: 0.343\n"
     ]
    },
    {
     "name": "stdout",
     "output_type": "stream",
     "text": [
      "training accuracy: 0.34077551020408164\nvalidation accuracy: 0.361\n"
     ]
    },
    {
     "name": "stdout",
     "output_type": "stream",
     "text": [
      "training accuracy: 0.33448979591836736\nvalidation accuracy: 0.345\n"
     ]
    },
    {
     "name": "stdout",
     "output_type": "stream",
     "text": [
      "training accuracy: 0.32893877551020406\nvalidation accuracy: 0.346\n"
     ]
    },
    {
     "name": "stdout",
     "output_type": "stream",
     "text": [
      "training accuracy: 0.32581632653061227\nvalidation accuracy: 0.343\n"
     ]
    },
    {
     "name": "stdout",
     "output_type": "stream",
     "text": [
      "training accuracy: 0.3252040816326531\nvalidation accuracy: 0.337\n"
     ]
    },
    {
     "name": "stdout",
     "output_type": "stream",
     "text": [
      "training accuracy: 0.334265306122449\nvalidation accuracy: 0.355\n"
     ]
    },
    {
     "name": "stdout",
     "output_type": "stream",
     "text": [
      "training accuracy: 0.34055102040816326\nvalidation accuracy: 0.35\n"
     ]
    },
    {
     "name": "stdout",
     "output_type": "stream",
     "text": [
      "training accuracy: 0.3296530612244898\nvalidation accuracy: 0.34\n"
     ]
    },
    {
     "name": "stdout",
     "output_type": "stream",
     "text": [
      "training accuracy: 0.3471020408163265\nvalidation accuracy: 0.357\n"
     ]
    },
    {
     "name": "stdout",
     "output_type": "stream",
     "text": [
      "training accuracy: 0.34581632653061223\nvalidation accuracy: 0.36\n"
     ]
    },
    {
     "name": "stdout",
     "output_type": "stream",
     "text": [
      "training accuracy: 0.3295102040816327\nvalidation accuracy: 0.341\n"
     ]
    },
    {
     "name": "stdout",
     "output_type": "stream",
     "text": [
      "training accuracy: 0.33777551020408164\nvalidation accuracy: 0.343\n"
     ]
    },
    {
     "name": "stdout",
     "output_type": "stream",
     "text": [
      "training accuracy: 0.34110204081632656\nvalidation accuracy: 0.351\n"
     ]
    },
    {
     "name": "stdout",
     "output_type": "stream",
     "text": [
      "training accuracy: 0.33746938775510205\nvalidation accuracy: 0.353\n"
     ]
    },
    {
     "name": "stdout",
     "output_type": "stream",
     "text": [
      "training accuracy: 0.333265306122449\nvalidation accuracy: 0.344\n"
     ]
    },
    {
     "name": "stdout",
     "output_type": "stream",
     "text": [
      "training accuracy: 0.32932653061224487\nvalidation accuracy: 0.34\n"
     ]
    },
    {
     "name": "stdout",
     "output_type": "stream",
     "text": [
      "training accuracy: 0.3312040816326531\nvalidation accuracy: 0.341\n"
     ]
    },
    {
     "name": "stdout",
     "output_type": "stream",
     "text": [
      "training accuracy: 0.32757142857142857\nvalidation accuracy: 0.34\n"
     ]
    },
    {
     "name": "stdout",
     "output_type": "stream",
     "text": [
      "training accuracy: 0.3335918367346939\nvalidation accuracy: 0.347\n"
     ]
    },
    {
     "name": "stdout",
     "output_type": "stream",
     "text": [
      "training accuracy: 0.33171428571428574\nvalidation accuracy: 0.341\n"
     ]
    },
    {
     "name": "stdout",
     "output_type": "stream",
     "text": [
      "training accuracy: 0.3352040816326531\nvalidation accuracy: 0.343\n"
     ]
    },
    {
     "name": "stdout",
     "output_type": "stream",
     "text": [
      "training accuracy: 0.34548979591836737\nvalidation accuracy: 0.362\n"
     ]
    },
    {
     "name": "stdout",
     "output_type": "stream",
     "text": [
      "training accuracy: 0.3334285714285714\nvalidation accuracy: 0.349\n"
     ]
    },
    {
     "name": "stdout",
     "output_type": "stream",
     "text": [
      "training accuracy: 0.3426530612244898\nvalidation accuracy: 0.36\n"
     ]
    },
    {
     "name": "stdout",
     "output_type": "stream",
     "text": [
      "training accuracy: 0.3416734693877551\nvalidation accuracy: 0.349\n"
     ]
    },
    {
     "name": "stdout",
     "output_type": "stream",
     "text": [
      "training accuracy: 0.32971428571428574\nvalidation accuracy: 0.341\n"
     ]
    },
    {
     "name": "stdout",
     "output_type": "stream",
     "text": [
      "training accuracy: 0.32683673469387753\nvalidation accuracy: 0.332\n"
     ]
    },
    {
     "name": "stdout",
     "output_type": "stream",
     "text": [
      "training accuracy: 0.34914285714285714\nvalidation accuracy: 0.354\n"
     ]
    },
    {
     "name": "stdout",
     "output_type": "stream",
     "text": [
      "training accuracy: 0.33483673469387754\nvalidation accuracy: 0.346\n"
     ]
    },
    {
     "name": "stdout",
     "output_type": "stream",
     "text": [
      "training accuracy: 0.32855102040816325\nvalidation accuracy: 0.342\n"
     ]
    },
    {
     "name": "stdout",
     "output_type": "stream",
     "text": [
      "training accuracy: 0.3423265306122449\nvalidation accuracy: 0.345\n"
     ]
    },
    {
     "name": "stdout",
     "output_type": "stream",
     "text": [
      "training accuracy: 0.33308163265306123\nvalidation accuracy: 0.346\n"
     ]
    },
    {
     "name": "stdout",
     "output_type": "stream",
     "text": [
      "training accuracy: 0.32881632653061227\nvalidation accuracy: 0.33\n"
     ]
    },
    {
     "name": "stdout",
     "output_type": "stream",
     "text": [
      "training accuracy: 0.3264285714285714\nvalidation accuracy: 0.34\n"
     ]
    },
    {
     "name": "stdout",
     "output_type": "stream",
     "text": [
      "training accuracy: 0.32457142857142857\nvalidation accuracy: 0.338\n"
     ]
    },
    {
     "name": "stdout",
     "output_type": "stream",
     "text": [
      "training accuracy: 0.3322857142857143\nvalidation accuracy: 0.346\n"
     ]
    },
    {
     "name": "stdout",
     "output_type": "stream",
     "text": [
      "training accuracy: 0.3414285714285714\nvalidation accuracy: 0.348\n"
     ]
    },
    {
     "name": "stdout",
     "output_type": "stream",
     "text": [
      "training accuracy: 0.33214285714285713\nvalidation accuracy: 0.351\n"
     ]
    },
    {
     "name": "stdout",
     "output_type": "stream",
     "text": [
      "training accuracy: 0.3493265306122449\nvalidation accuracy: 0.356\n"
     ]
    },
    {
     "name": "stdout",
     "output_type": "stream",
     "text": [
      "training accuracy: 0.3399795918367347\nvalidation accuracy: 0.352\n"
     ]
    },
    {
     "name": "stdout",
     "output_type": "stream",
     "text": [
      "training accuracy: 0.32412244897959186\nvalidation accuracy: 0.332\n"
     ]
    },
    {
     "name": "stdout",
     "output_type": "stream",
     "text": [
      "training accuracy: 0.33022448979591834\nvalidation accuracy: 0.345\n"
     ]
    },
    {
     "name": "stdout",
     "output_type": "stream",
     "text": [
      "training accuracy: 0.34485714285714286\nvalidation accuracy: 0.36\n"
     ]
    },
    {
     "name": "stdout",
     "output_type": "stream",
     "text": [
      "training accuracy: 0.33079591836734695\nvalidation accuracy: 0.346\n"
     ]
    },
    {
     "name": "stdout",
     "output_type": "stream",
     "text": [
      "training accuracy: 0.3348163265306122\nvalidation accuracy: 0.348\n"
     ]
    },
    {
     "name": "stdout",
     "output_type": "stream",
     "text": [
      "training accuracy: 0.3419795918367347\nvalidation accuracy: 0.356\n"
     ]
    },
    {
     "name": "stdout",
     "output_type": "stream",
     "text": [
      "training accuracy: 0.33510204081632655\nvalidation accuracy: 0.349\n"
     ]
    },
    {
     "name": "stdout",
     "output_type": "stream",
     "text": [
      "training accuracy: 0.3294489795918367\nvalidation accuracy: 0.347\n"
     ]
    },
    {
     "name": "stdout",
     "output_type": "stream",
     "text": [
      "training accuracy: 0.3338979591836735\nvalidation accuracy: 0.343\n"
     ]
    },
    {
     "name": "stdout",
     "output_type": "stream",
     "text": [
      "training accuracy: 0.3299183673469388\nvalidation accuracy: 0.351\n"
     ]
    },
    {
     "name": "stdout",
     "output_type": "stream",
     "text": [
      "training accuracy: 0.3323673469387755\nvalidation accuracy: 0.344\n"
     ]
    },
    {
     "name": "stdout",
     "output_type": "stream",
     "text": [
      "training accuracy: 0.3436326530612245\nvalidation accuracy: 0.347\n"
     ]
    },
    {
     "name": "stdout",
     "output_type": "stream",
     "text": [
      "training accuracy: 0.32940816326530614\nvalidation accuracy: 0.346\n"
     ]
    },
    {
     "name": "stdout",
     "output_type": "stream",
     "text": [
      "training accuracy: 0.3529387755102041\nvalidation accuracy: 0.37\n"
     ]
    },
    {
     "name": "stdout",
     "output_type": "stream",
     "text": [
      "training accuracy: 0.3432857142857143\nvalidation accuracy: 0.359\n"
     ]
    },
    {
     "name": "stdout",
     "output_type": "stream",
     "text": [
      "training accuracy: 0.3362040816326531\nvalidation accuracy: 0.35\n"
     ]
    },
    {
     "name": "stdout",
     "output_type": "stream",
     "text": [
      "training accuracy: 0.335734693877551\nvalidation accuracy: 0.353\n"
     ]
    },
    {
     "name": "stdout",
     "output_type": "stream",
     "text": [
      "training accuracy: 0.3481836734693878\nvalidation accuracy: 0.364\n"
     ]
    },
    {
     "name": "stdout",
     "output_type": "stream",
     "text": [
      "training accuracy: 0.3326122448979592\nvalidation accuracy: 0.347\n"
     ]
    },
    {
     "name": "stdout",
     "output_type": "stream",
     "text": [
      "training accuracy: 0.32783673469387753\nvalidation accuracy: 0.346\n"
     ]
    },
    {
     "name": "stdout",
     "output_type": "stream",
     "text": [
      "training accuracy: 0.3410612244897959\nvalidation accuracy: 0.354\n"
     ]
    },
    {
     "name": "stdout",
     "output_type": "stream",
     "text": [
      "training accuracy: 0.331734693877551\nvalidation accuracy: 0.337\n"
     ]
    },
    {
     "name": "stdout",
     "output_type": "stream",
     "text": [
      "training accuracy: 0.3269591836734694\nvalidation accuracy: 0.346\n"
     ]
    },
    {
     "name": "stdout",
     "output_type": "stream",
     "text": [
      "training accuracy: 0.3251428571428571\nvalidation accuracy: 0.34\n"
     ]
    },
    {
     "name": "stdout",
     "output_type": "stream",
     "text": [
      "training accuracy: 0.33510204081632655\nvalidation accuracy: 0.352\n"
     ]
    },
    {
     "name": "stdout",
     "output_type": "stream",
     "text": [
      "training accuracy: 0.3342857142857143\nvalidation accuracy: 0.344\n"
     ]
    },
    {
     "name": "stdout",
     "output_type": "stream",
     "text": [
      "training accuracy: 0.350265306122449\nvalidation accuracy: 0.369\n"
     ]
    },
    {
     "name": "stdout",
     "output_type": "stream",
     "text": [
      "training accuracy: 0.3343469387755102\nvalidation accuracy: 0.352\n"
     ]
    },
    {
     "name": "stdout",
     "output_type": "stream",
     "text": [
      "training accuracy: 0.3439795918367347\nvalidation accuracy: 0.349\n"
     ]
    },
    {
     "name": "stdout",
     "output_type": "stream",
     "text": [
      "training accuracy: 0.338\nvalidation accuracy: 0.351\n"
     ]
    },
    {
     "name": "stdout",
     "output_type": "stream",
     "text": [
      "training accuracy: 0.3243469387755102\nvalidation accuracy: 0.337\n"
     ]
    },
    {
     "name": "stdout",
     "output_type": "stream",
     "text": [
      "training accuracy: 0.3333673469387755\nvalidation accuracy: 0.353\n"
     ]
    },
    {
     "name": "stdout",
     "output_type": "stream",
     "text": [
      "training accuracy: 0.3437142857142857\nvalidation accuracy: 0.359\n"
     ]
    },
    {
     "name": "stdout",
     "output_type": "stream",
     "text": [
      "training accuracy: 0.33983673469387754\nvalidation accuracy: 0.353\n"
     ]
    },
    {
     "name": "stdout",
     "output_type": "stream",
     "text": [
      "training accuracy: 0.3356326530612245\nvalidation accuracy: 0.342\n"
     ]
    },
    {
     "name": "stdout",
     "output_type": "stream",
     "text": [
      "training accuracy: 0.3375102040816326\nvalidation accuracy: 0.348\n"
     ]
    },
    {
     "name": "stdout",
     "output_type": "stream",
     "text": [
      "training accuracy: 0.33524489795918366\nvalidation accuracy: 0.354\n"
     ]
    },
    {
     "name": "stdout",
     "output_type": "stream",
     "text": [
      "training accuracy: 0.3249183673469388\nvalidation accuracy: 0.338\n"
     ]
    },
    {
     "name": "stdout",
     "output_type": "stream",
     "text": [
      "training accuracy: 0.32542857142857146\nvalidation accuracy: 0.332\n"
     ]
    },
    {
     "name": "stdout",
     "output_type": "stream",
     "text": [
      "training accuracy: 0.33491836734693875\nvalidation accuracy: 0.347\n"
     ]
    },
    {
     "name": "stdout",
     "output_type": "stream",
     "text": [
      "training accuracy: 0.3307551020408163\nvalidation accuracy: 0.338\n"
     ]
    },
    {
     "name": "stdout",
     "output_type": "stream",
     "text": [
      "training accuracy: 0.3388775510204082\nvalidation accuracy: 0.358\n"
     ]
    },
    {
     "name": "stdout",
     "output_type": "stream",
     "text": [
      "training accuracy: 0.33546938775510204\nvalidation accuracy: 0.353\n"
     ]
    },
    {
     "name": "stdout",
     "output_type": "stream",
     "text": [
      "training accuracy: 0.3503673469387755\nvalidation accuracy: 0.351\n"
     ]
    },
    {
     "name": "stdout",
     "output_type": "stream",
     "text": [
      "training accuracy: 0.3416734693877551\nvalidation accuracy: 0.356\n"
     ]
    },
    {
     "name": "stdout",
     "output_type": "stream",
     "text": [
      "training accuracy: 0.33010204081632655\nvalidation accuracy: 0.339\nlr 1.117619e-07 reg 2.824828e+04 train accuracy: 0.343531 val accuracy: 0.358000\nlr 1.117619e-07 reg 2.960077e+04 train accuracy: 0.347041 val accuracy: 0.362000\nlr 1.117619e-07 reg 2.989070e+04 train accuracy: 0.345041 val accuracy: 0.361000\nlr 1.117619e-07 reg 3.109552e+04 train accuracy: 0.345510 val accuracy: 0.356000\nlr 1.117619e-07 reg 3.358019e+04 train accuracy: 0.344592 val accuracy: 0.361000\nlr 1.117619e-07 reg 3.797445e+04 train accuracy: 0.337020 val accuracy: 0.356000\nlr 1.117619e-07 reg 4.309701e+04 train accuracy: 0.334347 val accuracy: 0.349000\nlr 1.117619e-07 reg 4.319350e+04 train accuracy: 0.334102 val accuracy: 0.351000\nlr 1.117619e-07 reg 4.364597e+04 train accuracy: 0.334102 val accuracy: 0.351000\nlr 1.117619e-07 reg 4.370060e+04 train accuracy: 0.330408 val accuracy: 0.355000\nlr 1.117619e-07 reg 4.376429e+04 train accuracy: 0.330735 val accuracy: 0.340000\nlr 1.117619e-07 reg 4.497673e+04 train accuracy: 0.326245 val accuracy: 0.346000\nlr 1.117619e-07 reg 4.850850e+04 train accuracy: 0.324776 val accuracy: 0.340000\nlr 1.117619e-07 reg 4.872560e+04 train accuracy: 0.327878 val accuracy: 0.338000\nlr 1.117619e-07 reg 4.982862e+04 train accuracy: 0.325286 val accuracy: 0.345000\nlr 1.377061e-07 reg 2.824828e+04 train accuracy: 0.344837 val accuracy: 0.363000\nlr 1.377061e-07 reg 2.960077e+04 train accuracy: 0.348653 val accuracy: 0.364000\nlr 1.377061e-07 reg 2.989070e+04 train accuracy: 0.342857 val accuracy: 0.358000\nlr 1.377061e-07 reg 3.109552e+04 train accuracy: 0.339918 val accuracy: 0.354000\nlr 1.377061e-07 reg 3.358019e+04 train accuracy: 0.340633 val accuracy: 0.356000\nlr 1.377061e-07 reg 3.797445e+04 train accuracy: 0.341020 val accuracy: 0.349000\nlr 1.377061e-07 reg 4.309701e+04 train accuracy: 0.329939 val accuracy: 0.346000\nlr 1.377061e-07 reg 4.319350e+04 train accuracy: 0.335449 val accuracy: 0.357000\nlr 1.377061e-07 reg 4.364597e+04 train accuracy: 0.328388 val accuracy: 0.348000\nlr 1.377061e-07 reg 4.370060e+04 train accuracy: 0.322122 val accuracy: 0.333000\nlr 1.377061e-07 reg 4.376429e+04 train accuracy: 0.332408 val accuracy: 0.348000\nlr 1.377061e-07 reg 4.497673e+04 train accuracy: 0.331429 val accuracy: 0.350000\nlr 1.377061e-07 reg 4.850850e+04 train accuracy: 0.332347 val accuracy: 0.357000\nlr 1.377061e-07 reg 4.872560e+04 train accuracy: 0.329061 val accuracy: 0.346000\nlr 1.377061e-07 reg 4.982862e+04 train accuracy: 0.328245 val accuracy: 0.351000\nlr 1.393341e-07 reg 2.824828e+04 train accuracy: 0.350367 val accuracy: 0.351000\nlr 1.393341e-07 reg 2.960077e+04 train accuracy: 0.338878 val accuracy: 0.358000\nlr 1.393341e-07 reg 2.989070e+04 train accuracy: 0.343714 val accuracy: 0.359000\nlr 1.393341e-07 reg 3.109552e+04 train accuracy: 0.341673 val accuracy: 0.356000\nlr 1.393341e-07 reg 3.358019e+04 train accuracy: 0.337510 val accuracy: 0.348000\nlr 1.393341e-07 reg 3.797445e+04 train accuracy: 0.339837 val accuracy: 0.353000\nlr 1.393341e-07 reg 4.309701e+04 train accuracy: 0.330755 val accuracy: 0.338000\nlr 1.393341e-07 reg 4.319350e+04 train accuracy: 0.333367 val accuracy: 0.353000\nlr 1.393341e-07 reg 4.364597e+04 train accuracy: 0.334918 val accuracy: 0.347000\nlr 1.393341e-07 reg 4.370060e+04 train accuracy: 0.335469 val accuracy: 0.353000\nlr 1.393341e-07 reg 4.376429e+04 train accuracy: 0.335245 val accuracy: 0.354000\nlr 1.393341e-07 reg 4.497673e+04 train accuracy: 0.335633 val accuracy: 0.342000\nlr 1.393341e-07 reg 4.850850e+04 train accuracy: 0.324918 val accuracy: 0.338000\nlr 1.393341e-07 reg 4.872560e+04 train accuracy: 0.330102 val accuracy: 0.339000\nlr 1.393341e-07 reg 4.982862e+04 train accuracy: 0.325429 val accuracy: 0.332000\nlr 1.821044e-07 reg 2.824828e+04 train accuracy: 0.347286 val accuracy: 0.360000\nlr 1.821044e-07 reg 2.960077e+04 train accuracy: 0.350327 val accuracy: 0.377000\nlr 1.821044e-07 reg 2.989070e+04 train accuracy: 0.338408 val accuracy: 0.362000\nlr 1.821044e-07 reg 3.109552e+04 train accuracy: 0.336796 val accuracy: 0.355000\nlr 1.821044e-07 reg 3.358019e+04 train accuracy: 0.337061 val accuracy: 0.354000\nlr 1.821044e-07 reg 3.797445e+04 train accuracy: 0.339837 val accuracy: 0.353000\nlr 1.821044e-07 reg 4.309701e+04 train accuracy: 0.337388 val accuracy: 0.346000\nlr 1.821044e-07 reg 4.319350e+04 train accuracy: 0.329898 val accuracy: 0.345000\nlr 1.821044e-07 reg 4.364597e+04 train accuracy: 0.330204 val accuracy: 0.352000\nlr 1.821044e-07 reg 4.370060e+04 train accuracy: 0.329408 val accuracy: 0.343000\nlr 1.821044e-07 reg 4.376429e+04 train accuracy: 0.340388 val accuracy: 0.353000\nlr 1.821044e-07 reg 4.497673e+04 train accuracy: 0.334061 val accuracy: 0.346000\nlr 1.821044e-07 reg 4.850850e+04 train accuracy: 0.335857 val accuracy: 0.348000\nlr 1.821044e-07 reg 4.872560e+04 train accuracy: 0.334122 val accuracy: 0.354000\nlr 1.821044e-07 reg 4.982862e+04 train accuracy: 0.331061 val accuracy: 0.340000\nlr 1.905582e-07 reg 2.824828e+04 train accuracy: 0.345224 val accuracy: 0.356000\nlr 1.905582e-07 reg 2.960077e+04 train accuracy: 0.342122 val accuracy: 0.358000\nlr 1.905582e-07 reg 2.989070e+04 train accuracy: 0.350102 val accuracy: 0.363000\nlr 1.905582e-07 reg 3.109552e+04 train accuracy: 0.345082 val accuracy: 0.353000\nlr 1.905582e-07 reg 3.358019e+04 train accuracy: 0.338245 val accuracy: 0.354000\nlr 1.905582e-07 reg 3.797445e+04 train accuracy: 0.338571 val accuracy: 0.350000\nlr 1.905582e-07 reg 4.309701e+04 train accuracy: 0.327347 val accuracy: 0.349000\nlr 1.905582e-07 reg 4.319350e+04 train accuracy: 0.330204 val accuracy: 0.349000\nlr 1.905582e-07 reg 4.364597e+04 train accuracy: 0.334939 val accuracy: 0.355000\nlr 1.905582e-07 reg 4.370060e+04 train accuracy: 0.336347 val accuracy: 0.343000\nlr 1.905582e-07 reg 4.376429e+04 train accuracy: 0.337020 val accuracy: 0.354000\nlr 1.905582e-07 reg 4.497673e+04 train accuracy: 0.331878 val accuracy: 0.343000\nlr 1.905582e-07 reg 4.850850e+04 train accuracy: 0.330980 val accuracy: 0.357000\nlr 1.905582e-07 reg 4.872560e+04 train accuracy: 0.329735 val accuracy: 0.339000\nlr 1.905582e-07 reg 4.982862e+04 train accuracy: 0.330857 val accuracy: 0.343000\nlr 1.950197e-07 reg 2.824828e+04 train accuracy: 0.347102 val accuracy: 0.357000\nlr 1.950197e-07 reg 2.960077e+04 train accuracy: 0.340551 val accuracy: 0.350000\nlr 1.950197e-07 reg 2.989070e+04 train accuracy: 0.345429 val accuracy: 0.356000\nlr 1.950197e-07 reg 3.109552e+04 train accuracy: 0.345816 val accuracy: 0.360000\nlr 1.950197e-07 reg 3.358019e+04 train accuracy: 0.340776 val accuracy: 0.361000\nlr 1.950197e-07 reg 3.797445e+04 train accuracy: 0.338245 val accuracy: 0.349000\nlr 1.950197e-07 reg 4.309701e+04 train accuracy: 0.334265 val accuracy: 0.355000\nlr 1.950197e-07 reg 4.319350e+04 train accuracy: 0.329816 val accuracy: 0.345000\nlr 1.950197e-07 reg 4.364597e+04 train accuracy: 0.325204 val accuracy: 0.337000\nlr 1.950197e-07 reg 4.370060e+04 train accuracy: 0.329653 val accuracy: 0.340000\nlr 1.950197e-07 reg 4.376429e+04 train accuracy: 0.334490 val accuracy: 0.345000\nlr 1.950197e-07 reg 4.497673e+04 train accuracy: 0.328755 val accuracy: 0.343000\nlr 1.950197e-07 reg 4.850850e+04 train accuracy: 0.328939 val accuracy: 0.346000\nlr 1.950197e-07 reg 4.872560e+04 train accuracy: 0.329510 val accuracy: 0.341000\nlr 1.950197e-07 reg 4.982862e+04 train accuracy: 0.325816 val accuracy: 0.343000\nlr 2.098673e-07 reg 2.824828e+04 train accuracy: 0.352939 val accuracy: 0.370000\nlr 2.098673e-07 reg 2.960077e+04 train accuracy: 0.343633 val accuracy: 0.347000\nlr 2.098673e-07 reg 2.989070e+04 train accuracy: 0.344857 val accuracy: 0.360000\nlr 2.098673e-07 reg 3.109552e+04 train accuracy: 0.343286 val accuracy: 0.359000\nlr 2.098673e-07 reg 3.358019e+04 train accuracy: 0.341980 val accuracy: 0.356000\nlr 2.098673e-07 reg 3.797445e+04 train accuracy: 0.330796 val accuracy: 0.346000\nlr 2.098673e-07 reg 4.309701e+04 train accuracy: 0.332367 val accuracy: 0.344000\nlr 2.098673e-07 reg 4.319350e+04 train accuracy: 0.330224 val accuracy: 0.345000\nlr 2.098673e-07 reg 4.364597e+04 train accuracy: 0.329918 val accuracy: 0.351000\nlr 2.098673e-07 reg 4.370060e+04 train accuracy: 0.329408 val accuracy: 0.346000\nlr 2.098673e-07 reg 4.376429e+04 train accuracy: 0.335102 val accuracy: 0.349000\nlr 2.098673e-07 reg 4.497673e+04 train accuracy: 0.334816 val accuracy: 0.348000\nlr 2.098673e-07 reg 4.850850e+04 train accuracy: 0.329449 val accuracy: 0.347000\nlr 2.098673e-07 reg 4.872560e+04 train accuracy: 0.336204 val accuracy: 0.350000\nlr 2.098673e-07 reg 4.982862e+04 train accuracy: 0.333898 val accuracy: 0.343000\nlr 2.115616e-07 reg 2.824828e+04 train accuracy: 0.343980 val accuracy: 0.349000\nlr 2.115616e-07 reg 2.960077e+04 train accuracy: 0.350265 val accuracy: 0.369000\nlr 2.115616e-07 reg 2.989070e+04 train accuracy: 0.348184 val accuracy: 0.364000\nlr 2.115616e-07 reg 3.109552e+04 train accuracy: 0.338000 val accuracy: 0.351000\nlr 2.115616e-07 reg 3.358019e+04 train accuracy: 0.341061 val accuracy: 0.354000\nlr 2.115616e-07 reg 3.797445e+04 train accuracy: 0.332612 val accuracy: 0.347000\nlr 2.115616e-07 reg 4.309701e+04 train accuracy: 0.334286 val accuracy: 0.344000\nlr 2.115616e-07 reg 4.319350e+04 train accuracy: 0.335735 val accuracy: 0.353000\nlr 2.115616e-07 reg 4.364597e+04 train accuracy: 0.335102 val accuracy: 0.352000\nlr 2.115616e-07 reg 4.370060e+04 train accuracy: 0.334347 val accuracy: 0.352000\nlr 2.115616e-07 reg 4.376429e+04 train accuracy: 0.331735 val accuracy: 0.337000\nlr 2.115616e-07 reg 4.497673e+04 train accuracy: 0.327837 val accuracy: 0.346000\nlr 2.115616e-07 reg 4.850850e+04 train accuracy: 0.326959 val accuracy: 0.346000\nlr 2.115616e-07 reg 4.872560e+04 train accuracy: 0.324347 val accuracy: 0.337000\nlr 2.115616e-07 reg 4.982862e+04 train accuracy: 0.325143 val accuracy: 0.340000\nlr 2.370922e-07 reg 2.824828e+04 train accuracy: 0.348918 val accuracy: 0.362000\nlr 2.370922e-07 reg 2.960077e+04 train accuracy: 0.346673 val accuracy: 0.362000\nlr 2.370922e-07 reg 2.989070e+04 train accuracy: 0.346776 val accuracy: 0.361000\nlr 2.370922e-07 reg 3.109552e+04 train accuracy: 0.348143 val accuracy: 0.356000\nlr 2.370922e-07 reg 3.358019e+04 train accuracy: 0.342510 val accuracy: 0.357000\nlr 2.370922e-07 reg 3.797445e+04 train accuracy: 0.340857 val accuracy: 0.349000\nlr 2.370922e-07 reg 4.309701e+04 train accuracy: 0.325122 val accuracy: 0.346000\nlr 2.370922e-07 reg 4.319350e+04 train accuracy: 0.332796 val accuracy: 0.347000\nlr 2.370922e-07 reg 4.364597e+04 train accuracy: 0.329653 val accuracy: 0.335000\nlr 2.370922e-07 reg 4.370060e+04 train accuracy: 0.332551 val accuracy: 0.344000\nlr 2.370922e-07 reg 4.376429e+04 train accuracy: 0.332592 val accuracy: 0.349000\nlr 2.370922e-07 reg 4.497673e+04 train accuracy: 0.323490 val accuracy: 0.341000\nlr 2.370922e-07 reg 4.850850e+04 train accuracy: 0.329694 val accuracy: 0.345000\nlr 2.370922e-07 reg 4.872560e+04 train accuracy: 0.334327 val accuracy: 0.351000\nlr 2.370922e-07 reg 4.982862e+04 train accuracy: 0.330755 val accuracy: 0.340000\nlr 2.596950e-07 reg 2.824828e+04 train accuracy: 0.345061 val accuracy: 0.367000\nlr 2.596950e-07 reg 2.960077e+04 train accuracy: 0.349286 val accuracy: 0.367000\nlr 2.596950e-07 reg 2.989070e+04 train accuracy: 0.350245 val accuracy: 0.368000\nlr 2.596950e-07 reg 3.109552e+04 train accuracy: 0.338612 val accuracy: 0.350000\nlr 2.596950e-07 reg 3.358019e+04 train accuracy: 0.341102 val accuracy: 0.356000\nlr 2.596950e-07 reg 3.797445e+04 train accuracy: 0.337490 val accuracy: 0.350000\nlr 2.596950e-07 reg 4.309701e+04 train accuracy: 0.332061 val accuracy: 0.342000\nlr 2.596950e-07 reg 4.319350e+04 train accuracy: 0.334898 val accuracy: 0.352000\nlr 2.596950e-07 reg 4.364597e+04 train accuracy: 0.329265 val accuracy: 0.346000\nlr 2.596950e-07 reg 4.370060e+04 train accuracy: 0.332796 val accuracy: 0.347000\nlr 2.596950e-07 reg 4.376429e+04 train accuracy: 0.328367 val accuracy: 0.338000\nlr 2.596950e-07 reg 4.497673e+04 train accuracy: 0.333857 val accuracy: 0.344000\nlr 2.596950e-07 reg 4.850850e+04 train accuracy: 0.324755 val accuracy: 0.340000\nlr 2.596950e-07 reg 4.872560e+04 train accuracy: 0.330286 val accuracy: 0.340000\nlr 2.596950e-07 reg 4.982862e+04 train accuracy: 0.328653 val accuracy: 0.334000\nlr 2.834418e-07 reg 2.824828e+04 train accuracy: 0.342653 val accuracy: 0.360000\nlr 2.834418e-07 reg 2.960077e+04 train accuracy: 0.345490 val accuracy: 0.362000\nlr 2.834418e-07 reg 2.989070e+04 train accuracy: 0.341102 val accuracy: 0.351000\nlr 2.834418e-07 reg 3.109552e+04 train accuracy: 0.341673 val accuracy: 0.349000\nlr 2.834418e-07 reg 3.358019e+04 train accuracy: 0.329327 val accuracy: 0.340000\nlr 2.834418e-07 reg 3.797445e+04 train accuracy: 0.337469 val accuracy: 0.353000\nlr 2.834418e-07 reg 4.309701e+04 train accuracy: 0.335204 val accuracy: 0.343000\nlr 2.834418e-07 reg 4.319350e+04 train accuracy: 0.337776 val accuracy: 0.343000\nlr 2.834418e-07 reg 4.364597e+04 train accuracy: 0.331714 val accuracy: 0.341000\nlr 2.834418e-07 reg 4.370060e+04 train accuracy: 0.333429 val accuracy: 0.349000\nlr 2.834418e-07 reg 4.376429e+04 train accuracy: 0.331204 val accuracy: 0.341000\nlr 2.834418e-07 reg 4.497673e+04 train accuracy: 0.333265 val accuracy: 0.344000\nlr 2.834418e-07 reg 4.850850e+04 train accuracy: 0.327571 val accuracy: 0.340000\nlr 2.834418e-07 reg 4.872560e+04 train accuracy: 0.329714 val accuracy: 0.341000\nlr 2.834418e-07 reg 4.982862e+04 train accuracy: 0.333592 val accuracy: 0.347000\nlr 3.219816e-07 reg 2.824828e+04 train accuracy: 0.347224 val accuracy: 0.366000\nlr 3.219816e-07 reg 2.960077e+04 train accuracy: 0.342449 val accuracy: 0.365000\nlr 3.219816e-07 reg 2.989070e+04 train accuracy: 0.348776 val accuracy: 0.357000\nlr 3.219816e-07 reg 3.109552e+04 train accuracy: 0.347735 val accuracy: 0.361000\nlr 3.219816e-07 reg 3.358019e+04 train accuracy: 0.340939 val accuracy: 0.360000\nlr 3.219816e-07 reg 3.797445e+04 train accuracy: 0.338592 val accuracy: 0.339000\nlr 3.219816e-07 reg 4.309701e+04 train accuracy: 0.336102 val accuracy: 0.352000\nlr 3.219816e-07 reg 4.319350e+04 train accuracy: 0.338918 val accuracy: 0.342000\nlr 3.219816e-07 reg 4.364597e+04 train accuracy: 0.339041 val accuracy: 0.354000\nlr 3.219816e-07 reg 4.370060e+04 train accuracy: 0.332510 val accuracy: 0.342000\nlr 3.219816e-07 reg 4.376429e+04 train accuracy: 0.335245 val accuracy: 0.353000\nlr 3.219816e-07 reg 4.497673e+04 train accuracy: 0.324000 val accuracy: 0.337000\nlr 3.219816e-07 reg 4.850850e+04 train accuracy: 0.335918 val accuracy: 0.341000\nlr 3.219816e-07 reg 4.872560e+04 train accuracy: 0.322714 val accuracy: 0.340000\nlr 3.219816e-07 reg 4.982862e+04 train accuracy: 0.331041 val accuracy: 0.347000\nlr 4.229898e-07 reg 2.824828e+04 train accuracy: 0.350469 val accuracy: 0.359000\nlr 4.229898e-07 reg 2.960077e+04 train accuracy: 0.340918 val accuracy: 0.344000\nlr 4.229898e-07 reg 2.989070e+04 train accuracy: 0.345204 val accuracy: 0.356000\nlr 4.229898e-07 reg 3.109552e+04 train accuracy: 0.344510 val accuracy: 0.360000\nlr 4.229898e-07 reg 3.358019e+04 train accuracy: 0.343143 val accuracy: 0.356000\nlr 4.229898e-07 reg 3.797445e+04 train accuracy: 0.331122 val accuracy: 0.336000\nlr 4.229898e-07 reg 4.309701e+04 train accuracy: 0.330469 val accuracy: 0.332000\nlr 4.229898e-07 reg 4.319350e+04 train accuracy: 0.322020 val accuracy: 0.357000\nlr 4.229898e-07 reg 4.364597e+04 train accuracy: 0.331000 val accuracy: 0.354000\nlr 4.229898e-07 reg 4.370060e+04 train accuracy: 0.333224 val accuracy: 0.338000\nlr 4.229898e-07 reg 4.376429e+04 train accuracy: 0.334143 val accuracy: 0.362000\nlr 4.229898e-07 reg 4.497673e+04 train accuracy: 0.330163 val accuracy: 0.349000\nlr 4.229898e-07 reg 4.850850e+04 train accuracy: 0.333163 val accuracy: 0.343000\nlr 4.229898e-07 reg 4.872560e+04 train accuracy: 0.333673 val accuracy: 0.349000\nlr 4.229898e-07 reg 4.982862e+04 train accuracy: 0.320061 val accuracy: 0.344000\nlr 4.538495e-07 reg 2.824828e+04 train accuracy: 0.349327 val accuracy: 0.356000\nlr 4.538495e-07 reg 2.960077e+04 train accuracy: 0.341429 val accuracy: 0.348000\nlr 4.538495e-07 reg 2.989070e+04 train accuracy: 0.349143 val accuracy: 0.354000\nlr 4.538495e-07 reg 3.109552e+04 train accuracy: 0.339980 val accuracy: 0.352000\nlr 4.538495e-07 reg 3.358019e+04 train accuracy: 0.342327 val accuracy: 0.345000\nlr 4.538495e-07 reg 3.797445e+04 train accuracy: 0.334837 val accuracy: 0.346000\nlr 4.538495e-07 reg 4.309701e+04 train accuracy: 0.332286 val accuracy: 0.346000\nlr 4.538495e-07 reg 4.319350e+04 train accuracy: 0.326837 val accuracy: 0.332000\nlr 4.538495e-07 reg 4.364597e+04 train accuracy: 0.324571 val accuracy: 0.338000\nlr 4.538495e-07 reg 4.370060e+04 train accuracy: 0.332143 val accuracy: 0.351000\nlr 4.538495e-07 reg 4.376429e+04 train accuracy: 0.333082 val accuracy: 0.346000\nlr 4.538495e-07 reg 4.497673e+04 train accuracy: 0.328551 val accuracy: 0.342000\nlr 4.538495e-07 reg 4.850850e+04 train accuracy: 0.328816 val accuracy: 0.330000\nlr 4.538495e-07 reg 4.872560e+04 train accuracy: 0.324122 val accuracy: 0.332000\nlr 4.538495e-07 reg 4.982862e+04 train accuracy: 0.326429 val accuracy: 0.340000\nlr 4.800932e-07 reg 2.824828e+04 train accuracy: 0.352694 val accuracy: 0.372000\nlr 4.800932e-07 reg 2.960077e+04 train accuracy: 0.335265 val accuracy: 0.352000\nlr 4.800932e-07 reg 2.989070e+04 train accuracy: 0.347224 val accuracy: 0.357000\nlr 4.800932e-07 reg 3.109552e+04 train accuracy: 0.339469 val accuracy: 0.359000\nlr 4.800932e-07 reg 3.358019e+04 train accuracy: 0.343163 val accuracy: 0.350000\nlr 4.800932e-07 reg 3.797445e+04 train accuracy: 0.337612 val accuracy: 0.342000\nlr 4.800932e-07 reg 4.309701e+04 train accuracy: 0.335000 val accuracy: 0.358000\nlr 4.800932e-07 reg 4.319350e+04 train accuracy: 0.333796 val accuracy: 0.332000\nlr 4.800932e-07 reg 4.364597e+04 train accuracy: 0.328163 val accuracy: 0.348000\nlr 4.800932e-07 reg 4.370060e+04 train accuracy: 0.333122 val accuracy: 0.341000\nlr 4.800932e-07 reg 4.376429e+04 train accuracy: 0.330041 val accuracy: 0.341000\nlr 4.800932e-07 reg 4.497673e+04 train accuracy: 0.332571 val accuracy: 0.357000\nlr 4.800932e-07 reg 4.850850e+04 train accuracy: 0.324735 val accuracy: 0.324000\nlr 4.800932e-07 reg 4.872560e+04 train accuracy: 0.325694 val accuracy: 0.348000\nlr 4.800932e-07 reg 4.982862e+04 train accuracy: 0.318490 val accuracy: 0.334000\nbest validation accuracy achieved during cross-validation: 0.377000\n"
     ]
    },
    {
     "data": {
      "text/plain": [
       "<matplotlib.figure.Figure at 0x7f108e036208>"
      ]
     },
     "execution_count": 0,
     "metadata": {},
     "output_type": "execute_result"
    }
   ],
   "source": [
    "# Use the validation set to tune hyperparameters (regularization strength and\n",
    "# learning rate). You should experiment with different ranges for the learning\n",
    "# rates and regularization strengths; if you are careful you should be able to\n",
    "# get a classification accuracy of over 0.35 on the validation set.\n",
    "from cs231n.classifiers import Softmax\n",
    "results = {}\n",
    "best_val = -1\n",
    "best_softmax = None\n",
    "learning_rates = [1e-7, 5e-7]\n",
    "learning_rates = np.random.rand(15)*(learning_rates[1]-learning_rates[0]) + learning_rates[0]\n",
    "regularization_strengths = [2.5e4, 5e4]\n",
    "regularization_strengths = np.random.rand(15)*(regularization_strengths[1]-regularization_strengths[0]) + regularization_strengths[0]\n",
    "\n",
    "################################################################################\n",
    "# Use the validation set to set the learning rate and regularization strength. #\n",
    "# This should be identical to the validation that you did for the SVM; save    #\n",
    "# the best trained softmax classifer in best_softmax.                          #\n",
    "################################################################################\n",
    "for lr in learning_rates:\n",
    "    for rs in regularization_strengths:\n",
    "        sm = Softmax()\n",
    "        loss_hist = sm.train(X_train, y_train, learning_rate=lr, reg=rs,\n",
    "                              num_iters=1500, verbose=False)\n",
    "        # Write the LinearSVM.predict function and evaluate the performance on both the\n",
    "        # training and validation set\n",
    "        y_train_pred = sm.predict(X_train)\n",
    "        training_accuracy = np.mean(y_train == y_train_pred)\n",
    "        print('training accuracy: {}'.format(training_accuracy))\n",
    "        y_val_pred = sm.predict(X_val)\n",
    "        validation_accuracy = np.mean(y_val == y_val_pred)\n",
    "        print('validation accuracy: {}'.format(validation_accuracy))\n",
    "        results[(lr, rs)] = (training_accuracy, validation_accuracy)\n",
    "        if validation_accuracy > best_val:\n",
    "            best_val = validation_accuracy\n",
    "            best_softmax = sm\n",
    "################################################################################\n",
    "#                              END OF YOUR CODE                                #\n",
    "################################################################################\n",
    "    \n",
    "# Print out results.\n",
    "for lr, reg in sorted(results):\n",
    "    train_accuracy, val_accuracy = results[(lr, reg)]\n",
    "    print('lr %e reg %e train accuracy: %f val accuracy: %f' % (\n",
    "                lr, reg, train_accuracy, val_accuracy))\n",
    "    \n",
    "print('best validation accuracy achieved during cross-validation: %f' % best_val)"
   ]
  },
  {
   "cell_type": "code",
   "execution_count": 8,
   "metadata": {
    "collapsed": false
   },
   "outputs": [
    {
     "name": "stdout",
     "output_type": "stream",
     "text": [
      "softmax on raw pixels final test set accuracy: 0.361000\n"
     ]
    }
   ],
   "source": [
    "# evaluate on test set\n",
    "# Evaluate the best softmax on test set\n",
    "y_test_pred = best_softmax.predict(X_test)\n",
    "test_accuracy = np.mean(y_test == y_test_pred)\n",
    "print('softmax on raw pixels final test set accuracy: %f' % (test_accuracy, ))"
   ]
  },
  {
   "cell_type": "code",
   "execution_count": 9,
   "metadata": {
    "collapsed": false
   },
   "outputs": [
    {
     "data": {
      "image/png": "[encoded data removed]",
      "text/plain": [
       "<matplotlib.figure.Figure at 0x7f108e036ef0>"
      ]
     },
     "metadata": {},
     "output_type": "display_data"
    }
   ],
   "source": [
    "# Visualize the learned weights for each class\n",
    "w = best_softmax.W[:-1,:] # strip out the bias\n",
    "w = w.reshape(32, 32, 3, 10)\n",
    "\n",
    "w_min, w_max = np.min(w), np.max(w)\n",
    "\n",
    "classes = ['plane', 'car', 'bird', 'cat', 'deer', 'dog', 'frog', 'horse', 'ship', 'truck']\n",
    "for i in range(10):\n",
    "    plt.subplot(2, 5, i + 1)\n",
    "    \n",
    "    # Rescale the weights to be between 0 and 255\n",
    "    wimg = 255.0 * (w[:, :, :, i].squeeze() - w_min) / (w_max - w_min)\n",
    "    plt.imshow(wimg.astype('uint8'))\n",
    "    plt.axis('off')\n",
    "    plt.title(classes[i])"
   ]
  },
  {
   "cell_type": "code",
   "execution_count": null,
   "metadata": {},
   "outputs": [],
   "source": [
    ""
   ]
  }
 ],
 "metadata": {
  "kernelspec": {
   "display_name": "Python 2",
   "name": "python2",
   "language": "python"
  },
  "language_info": {
   "mimetype": "text/x-python",
   "nbconvert_exporter": "python",
   "name": "python",
   "file_extension": ".py",
   "version": "2.7.6",
   "pygments_lexer": "ipython2",
   "codemirror_mode": {
    "version": 2.0,
    "name": "ipython"
   }
  }
 },
 "nbformat": 4,
 "nbformat_minor": 0
}