{
 "cells": [
  {
   "cell_type": "code",
   "execution_count": 1,
   "metadata": {
    "collapsed": true
   },
   "outputs": [],
   "source": [
    "import cv2\n",
    "from math import sqrt\n",
    "import numpy as np"
   ]
  },
  {
   "cell_type": "code",
   "execution_count": 2,
   "metadata": {},
   "outputs": [
    {
     "name": "stdout",
     "output_type": "stream",
     "text": [
      "width: 966 pixels\nheight: 560 pixels\nchannels: 3\n"
     ]
    },
    {
     "data": {
      "text/plain": [
       "1048696"
      ]
     },
     "execution_count": 2,
     "metadata": {},
     "output_type": "execute_result"
    }
   ],
   "source": [
    "imagePath = r'stars.png'\n",
    "image = cv2.imread(imagePath)\n",
    "print(\"width: {} pixels\".format(image.shape[1]))\n",
    "print(\"height: {} pixels\".format(image.shape[0]))\n",
    "print(\"channels: {}\".format(image.shape[2]))\n",
    "cv2.line(image, (0,0), (200,200), (0, 255, 255), 5)\n",
    "cv2.rectangle(image, (200,200), (300,300), (255, 0, 255), 5)\n",
    "cv2.circle(image, (int(300+50/sqrt(2)), int(300+50/sqrt(2))), 50, (255, 255, 0), 5)\n",
    "cv2.imshow(\"Image\", image)\n",
    "cv2.waitKey(0)"
   ]
  },
  {
   "cell_type": "code",
   "execution_count": 3,
   "metadata": {},
   "outputs": [
    {
     "name": "stdout",
     "output_type": "stream",
     "text": [
      "[[  6.12323400e-17   1.00000000e+00  -2.03000000e+02]\n [ -1.00000000e+00   6.12323400e-17   7.63000000e+02]]\n"
     ]
    }
   ],
   "source": [
    "Mrot = cv2.getRotationMatrix2D(center=(image.shape[0]//2,image.shape[1]//2), angle=90, scale=1)\n",
    "print(Mrot)"
   ]
  },
  {
   "cell_type": "code",
   "execution_count": null,
   "metadata": {},
   "outputs": [],
   "source": [
    ""
   ]
  }
 ],
 "metadata": {
  "kernelspec": {
   "display_name": "Python 2",
   "language": "python",
   "name": "python2"
  },
  "language_info": {
   "codemirror_mode": {
    "name": "ipython",
    "version": 2.0
   },
   "file_extension": ".py",
   "mimetype": "text/x-python",
   "name": "python",
   "nbconvert_exporter": "python",
   "pygments_lexer": "ipython2",
   "version": "2.7.6"
  }
 },
 "nbformat": 4,
 "nbformat_minor": 0
}